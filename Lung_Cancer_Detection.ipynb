{
  "nbformat": 4,
  "nbformat_minor": 0,
  "metadata": {
    "colab": {
      "provenance": [],
      "gpuType": "T4"
    },
    "kernelspec": {
      "name": "python3",
      "display_name": "Python 3"
    },
    "language_info": {
      "name": "python"
    },
    "accelerator": "GPU"
  },
  "cells": [
    {
      "cell_type": "markdown",
      "source": [
        "# Midterm Project\n",
        "\n",
        "In this project, you will develop a deep learning model to classify lung nodules as benign or malignant from 3D CT scans, utilizing the LUNA16 dataset. This task involves data preprocessing, model design, training, and evaluation, offering hands-on experience with medical image analysis and deep learning in PyTorch."
      ],
      "metadata": {
        "id": "zMsKSGzE-xrU"
      }
    },
    {
      "cell_type": "code",
      "source": [
        "import pandas as pd\n",
        "import os\n",
        "import glob\n",
        "import copy\n",
        "import time\n",
        "import torch\n",
        "from torch.utils.data import Dataset, DataLoader\n",
        "import torch.nn as nn\n",
        "import torch.optim as optim\n",
        "import numpy as np\n",
        "import pandas as pd\n",
        "from tqdm.notebook import tqdm\n",
        "from collections import namedtuple\n",
        "import SimpleITK as sitk\n",
        "import gzip\n",
        "from cassandra.cqltypes import BytesType\n",
        "from diskcache import FanoutCache, Disk, core\n",
        "from diskcache.core import io, MODE_BINARY\n",
        "from io import BytesIO\n",
        "import matplotlib.pyplot as plt\n",
        "\n"
      ],
      "metadata": {
        "id": "k49dOmtwPzXE"
      },
      "execution_count": 2,
      "outputs": []
    },
    {
      "cell_type": "code",
      "source": [
        "# pip install SimpleITK\n",
        "# pip install cassandra-driver\n",
        "# pip install diskcache"
      ],
      "metadata": {
        "id": "D-SmuioZr7ko"
      },
      "execution_count": 3,
      "outputs": []
    },
    {
      "cell_type": "code",
      "source": [
        "from google.colab import drive\n",
        "drive.mount('/content/drive')\n"
      ],
      "metadata": {
        "colab": {
          "base_uri": "https://localhost:8080/"
        },
        "id": "Qc24lVf5gOFt",
        "outputId": "91bf6cf4-7ecf-4d12-af40-abe8fd3985cc"
      },
      "execution_count": 4,
      "outputs": [
        {
          "output_type": "stream",
          "name": "stdout",
          "text": [
            "Drive already mounted at /content/drive; to attempt to forcibly remount, call drive.mount(\"/content/drive\", force_remount=True).\n"
          ]
        }
      ]
    },
    {
      "cell_type": "markdown",
      "source": [
        "## 1. Load Annotation Data"
      ],
      "metadata": {
        "id": "8AH64fuG-5UD"
      }
    },
    {
      "cell_type": "markdown",
      "source": [
        "1.1 Download the numerical dataset from Kaggle. Follow the steps in Week07_02 notebook."
      ],
      "metadata": {
        "id": "Y8vGiTr1--0k"
      }
    },
    {
      "cell_type": "markdown",
      "source": [
        "Firstly, you would need to download kaggle.json from your Account Seting by Going in API Token. Then Run this code and Upload."
      ],
      "metadata": {
        "id": "OBOvd5VWq6dI"
      }
    },
    {
      "cell_type": "code",
      "source": [
        "import os\n",
        "\n",
        "# Upload kaggle.json to Colab environment\n",
        "from google.colab import files\n",
        "files.upload()\n",
        "\n",
        "# Move the kaggle.json file to the required directory\n",
        "!mkdir -p ~/.kaggle\n",
        "!cp kaggle.json ~/.kaggle/\n",
        "\n",
        "# Change the permissions of the file\n",
        "!chmod 600 ~/.kaggle/kaggle.json\n"
      ],
      "metadata": {
        "id": "0LKF_pUN_Ns6",
        "colab": {
          "base_uri": "https://localhost:8080/",
          "height": 73
        },
        "outputId": "0869f516-49a9-4507-8dd3-885b7b3265c9"
      },
      "execution_count": 5,
      "outputs": [
        {
          "output_type": "display_data",
          "data": {
            "text/plain": [
              "<IPython.core.display.HTML object>"
            ],
            "text/html": [
              "\n",
              "     <input type=\"file\" id=\"files-dc85dd40-8900-4e06-9812-f0863e2ef9ea\" name=\"files[]\" multiple disabled\n",
              "        style=\"border:none\" />\n",
              "     <output id=\"result-dc85dd40-8900-4e06-9812-f0863e2ef9ea\">\n",
              "      Upload widget is only available when the cell has been executed in the\n",
              "      current browser session. Please rerun this cell to enable.\n",
              "      </output>\n",
              "      <script>// Copyright 2017 Google LLC\n",
              "//\n",
              "// Licensed under the Apache License, Version 2.0 (the \"License\");\n",
              "// you may not use this file except in compliance with the License.\n",
              "// You may obtain a copy of the License at\n",
              "//\n",
              "//      http://www.apache.org/licenses/LICENSE-2.0\n",
              "//\n",
              "// Unless required by applicable law or agreed to in writing, software\n",
              "// distributed under the License is distributed on an \"AS IS\" BASIS,\n",
              "// WITHOUT WARRANTIES OR CONDITIONS OF ANY KIND, either express or implied.\n",
              "// See the License for the specific language governing permissions and\n",
              "// limitations under the License.\n",
              "\n",
              "/**\n",
              " * @fileoverview Helpers for google.colab Python module.\n",
              " */\n",
              "(function(scope) {\n",
              "function span(text, styleAttributes = {}) {\n",
              "  const element = document.createElement('span');\n",
              "  element.textContent = text;\n",
              "  for (const key of Object.keys(styleAttributes)) {\n",
              "    element.style[key] = styleAttributes[key];\n",
              "  }\n",
              "  return element;\n",
              "}\n",
              "\n",
              "// Max number of bytes which will be uploaded at a time.\n",
              "const MAX_PAYLOAD_SIZE = 100 * 1024;\n",
              "\n",
              "function _uploadFiles(inputId, outputId) {\n",
              "  const steps = uploadFilesStep(inputId, outputId);\n",
              "  const outputElement = document.getElementById(outputId);\n",
              "  // Cache steps on the outputElement to make it available for the next call\n",
              "  // to uploadFilesContinue from Python.\n",
              "  outputElement.steps = steps;\n",
              "\n",
              "  return _uploadFilesContinue(outputId);\n",
              "}\n",
              "\n",
              "// This is roughly an async generator (not supported in the browser yet),\n",
              "// where there are multiple asynchronous steps and the Python side is going\n",
              "// to poll for completion of each step.\n",
              "// This uses a Promise to block the python side on completion of each step,\n",
              "// then passes the result of the previous step as the input to the next step.\n",
              "function _uploadFilesContinue(outputId) {\n",
              "  const outputElement = document.getElementById(outputId);\n",
              "  const steps = outputElement.steps;\n",
              "\n",
              "  const next = steps.next(outputElement.lastPromiseValue);\n",
              "  return Promise.resolve(next.value.promise).then((value) => {\n",
              "    // Cache the last promise value to make it available to the next\n",
              "    // step of the generator.\n",
              "    outputElement.lastPromiseValue = value;\n",
              "    return next.value.response;\n",
              "  });\n",
              "}\n",
              "\n",
              "/**\n",
              " * Generator function which is called between each async step of the upload\n",
              " * process.\n",
              " * @param {string} inputId Element ID of the input file picker element.\n",
              " * @param {string} outputId Element ID of the output display.\n",
              " * @return {!Iterable<!Object>} Iterable of next steps.\n",
              " */\n",
              "function* uploadFilesStep(inputId, outputId) {\n",
              "  const inputElement = document.getElementById(inputId);\n",
              "  inputElement.disabled = false;\n",
              "\n",
              "  const outputElement = document.getElementById(outputId);\n",
              "  outputElement.innerHTML = '';\n",
              "\n",
              "  const pickedPromise = new Promise((resolve) => {\n",
              "    inputElement.addEventListener('change', (e) => {\n",
              "      resolve(e.target.files);\n",
              "    });\n",
              "  });\n",
              "\n",
              "  const cancel = document.createElement('button');\n",
              "  inputElement.parentElement.appendChild(cancel);\n",
              "  cancel.textContent = 'Cancel upload';\n",
              "  const cancelPromise = new Promise((resolve) => {\n",
              "    cancel.onclick = () => {\n",
              "      resolve(null);\n",
              "    };\n",
              "  });\n",
              "\n",
              "  // Wait for the user to pick the files.\n",
              "  const files = yield {\n",
              "    promise: Promise.race([pickedPromise, cancelPromise]),\n",
              "    response: {\n",
              "      action: 'starting',\n",
              "    }\n",
              "  };\n",
              "\n",
              "  cancel.remove();\n",
              "\n",
              "  // Disable the input element since further picks are not allowed.\n",
              "  inputElement.disabled = true;\n",
              "\n",
              "  if (!files) {\n",
              "    return {\n",
              "      response: {\n",
              "        action: 'complete',\n",
              "      }\n",
              "    };\n",
              "  }\n",
              "\n",
              "  for (const file of files) {\n",
              "    const li = document.createElement('li');\n",
              "    li.append(span(file.name, {fontWeight: 'bold'}));\n",
              "    li.append(span(\n",
              "        `(${file.type || 'n/a'}) - ${file.size} bytes, ` +\n",
              "        `last modified: ${\n",
              "            file.lastModifiedDate ? file.lastModifiedDate.toLocaleDateString() :\n",
              "                                    'n/a'} - `));\n",
              "    const percent = span('0% done');\n",
              "    li.appendChild(percent);\n",
              "\n",
              "    outputElement.appendChild(li);\n",
              "\n",
              "    const fileDataPromise = new Promise((resolve) => {\n",
              "      const reader = new FileReader();\n",
              "      reader.onload = (e) => {\n",
              "        resolve(e.target.result);\n",
              "      };\n",
              "      reader.readAsArrayBuffer(file);\n",
              "    });\n",
              "    // Wait for the data to be ready.\n",
              "    let fileData = yield {\n",
              "      promise: fileDataPromise,\n",
              "      response: {\n",
              "        action: 'continue',\n",
              "      }\n",
              "    };\n",
              "\n",
              "    // Use a chunked sending to avoid message size limits. See b/62115660.\n",
              "    let position = 0;\n",
              "    do {\n",
              "      const length = Math.min(fileData.byteLength - position, MAX_PAYLOAD_SIZE);\n",
              "      const chunk = new Uint8Array(fileData, position, length);\n",
              "      position += length;\n",
              "\n",
              "      const base64 = btoa(String.fromCharCode.apply(null, chunk));\n",
              "      yield {\n",
              "        response: {\n",
              "          action: 'append',\n",
              "          file: file.name,\n",
              "          data: base64,\n",
              "        },\n",
              "      };\n",
              "\n",
              "      let percentDone = fileData.byteLength === 0 ?\n",
              "          100 :\n",
              "          Math.round((position / fileData.byteLength) * 100);\n",
              "      percent.textContent = `${percentDone}% done`;\n",
              "\n",
              "    } while (position < fileData.byteLength);\n",
              "  }\n",
              "\n",
              "  // All done.\n",
              "  yield {\n",
              "    response: {\n",
              "      action: 'complete',\n",
              "    }\n",
              "  };\n",
              "}\n",
              "\n",
              "scope.google = scope.google || {};\n",
              "scope.google.colab = scope.google.colab || {};\n",
              "scope.google.colab._files = {\n",
              "  _uploadFiles,\n",
              "  _uploadFilesContinue,\n",
              "};\n",
              "})(self);\n",
              "</script> "
            ]
          },
          "metadata": {}
        },
        {
          "output_type": "stream",
          "name": "stdout",
          "text": [
            "Saving kaggle.json to kaggle (2).json\n"
          ]
        }
      ]
    },
    {
      "cell_type": "code",
      "source": [
        "# !kaggle datasets download -d avc0706/luna16 -p \"/content/drive/My Drive\"\n"
      ],
      "metadata": {
        "id": "trocEJ12S0nN"
      },
      "execution_count": 6,
      "outputs": []
    },
    {
      "cell_type": "code",
      "source": [
        "# !unzip -q \"/content/drive/My Drive/luna16.zip\" -d \"/content/drive/My Drive/luna16\"\n"
      ],
      "metadata": {
        "id": "wDzDD-zFS3FH"
      },
      "execution_count": 7,
      "outputs": []
    },
    {
      "cell_type": "markdown",
      "source": [
        " Missing Candidates *Data*"
      ],
      "metadata": {
        "id": "qPJMBg4BvLyu"
      }
    },
    {
      "cell_type": "code",
      "source": [
        "# !kaggle datasets download -d mashruravi/luna16missingcandidates -p \"/content/drive/My Drive\"\n"
      ],
      "metadata": {
        "id": "gI1xzy_bvQz9"
      },
      "execution_count": 8,
      "outputs": []
    },
    {
      "cell_type": "code",
      "source": [
        "# !unzip -q \"/content/drive/My Drive/luna16missingcandidates.zip\" -d \"/content/drive/My Drive/luna16\"\n"
      ],
      "metadata": {
        "id": "ysDp3RBjvVPi"
      },
      "execution_count": 9,
      "outputs": []
    },
    {
      "cell_type": "markdown",
      "source": [
        "Annotations Data"
      ],
      "metadata": {
        "id": "-uWvIcBXw8Xd"
      }
    },
    {
      "cell_type": "code",
      "source": [
        "csv_file_path = \"/content/drive/MyDrive/luna16/annotations.csv\"\n",
        "\n",
        "annotations = pd.read_csv(csv_file_path)\n",
        "\n",
        "annotations.shape\n"
      ],
      "metadata": {
        "colab": {
          "base_uri": "https://localhost:8080/"
        },
        "id": "P-Ywgacuw_7b",
        "outputId": "0596fb42-36f4-46fe-af4b-e2c1543ed42e"
      },
      "execution_count": 10,
      "outputs": [
        {
          "output_type": "execute_result",
          "data": {
            "text/plain": [
              "(1186, 5)"
            ]
          },
          "metadata": {},
          "execution_count": 10
        }
      ]
    },
    {
      "cell_type": "markdown",
      "source": [
        "1.2 Load the `candidates_V2.csv` file as a data frame. Display the first 5 rows."
      ],
      "metadata": {
        "id": "C1oLG8_j_OS6"
      }
    },
    {
      "cell_type": "code",
      "source": [
        "\n",
        "csv_file_path = \"/content/drive/MyDrive/luna16/candidates_V2/candidates_V2.csv\"\n",
        "\n",
        "df_candidates_V2 = pd.read_csv(csv_file_path)\n",
        "\n",
        "df_candidates_V2.shape\n"
      ],
      "metadata": {
        "id": "T8AirC6B_U7_",
        "colab": {
          "base_uri": "https://localhost:8080/"
        },
        "outputId": "139ac8bd-8b25-4f5c-a480-eb6aefdd68df"
      },
      "execution_count": 11,
      "outputs": [
        {
          "output_type": "execute_result",
          "data": {
            "text/plain": [
              "(754975, 5)"
            ]
          },
          "metadata": {},
          "execution_count": 11
        }
      ]
    },
    {
      "cell_type": "code",
      "source": [
        "df_candidates_V2.head(5)\n"
      ],
      "metadata": {
        "colab": {
          "base_uri": "https://localhost:8080/",
          "height": 206
        },
        "id": "xuimyAMxqR2b",
        "outputId": "ccd68d5d-6b0c-42ac-ab8c-a2ea532b45ed"
      },
      "execution_count": 12,
      "outputs": [
        {
          "output_type": "execute_result",
          "data": {
            "text/plain": [
              "                                           seriesuid     coordX      coordY  \\\n",
              "0  1.3.6.1.4.1.14519.5.2.1.6279.6001.100225287222...  68.420000  -74.480000   \n",
              "1  1.3.6.1.4.1.14519.5.2.1.6279.6001.100225287222... -95.209361  -91.809406   \n",
              "2  1.3.6.1.4.1.14519.5.2.1.6279.6001.100225287222... -24.766755 -120.379294   \n",
              "3  1.3.6.1.4.1.14519.5.2.1.6279.6001.100225287222... -63.080000  -65.740000   \n",
              "4  1.3.6.1.4.1.14519.5.2.1.6279.6001.100225287222...  52.946688  -92.688873   \n",
              "\n",
              "       coordZ  class  \n",
              "0 -288.700000      0  \n",
              "1 -377.426350      0  \n",
              "2 -273.361539      0  \n",
              "3 -344.240000      0  \n",
              "4 -241.067872      0  "
            ],
            "text/html": [
              "\n",
              "  <div id=\"df-9be4de53-bee8-4c5a-9566-9b14956c39c6\" class=\"colab-df-container\">\n",
              "    <div>\n",
              "<style scoped>\n",
              "    .dataframe tbody tr th:only-of-type {\n",
              "        vertical-align: middle;\n",
              "    }\n",
              "\n",
              "    .dataframe tbody tr th {\n",
              "        vertical-align: top;\n",
              "    }\n",
              "\n",
              "    .dataframe thead th {\n",
              "        text-align: right;\n",
              "    }\n",
              "</style>\n",
              "<table border=\"1\" class=\"dataframe\">\n",
              "  <thead>\n",
              "    <tr style=\"text-align: right;\">\n",
              "      <th></th>\n",
              "      <th>seriesuid</th>\n",
              "      <th>coordX</th>\n",
              "      <th>coordY</th>\n",
              "      <th>coordZ</th>\n",
              "      <th>class</th>\n",
              "    </tr>\n",
              "  </thead>\n",
              "  <tbody>\n",
              "    <tr>\n",
              "      <th>0</th>\n",
              "      <td>1.3.6.1.4.1.14519.5.2.1.6279.6001.100225287222...</td>\n",
              "      <td>68.420000</td>\n",
              "      <td>-74.480000</td>\n",
              "      <td>-288.700000</td>\n",
              "      <td>0</td>\n",
              "    </tr>\n",
              "    <tr>\n",
              "      <th>1</th>\n",
              "      <td>1.3.6.1.4.1.14519.5.2.1.6279.6001.100225287222...</td>\n",
              "      <td>-95.209361</td>\n",
              "      <td>-91.809406</td>\n",
              "      <td>-377.426350</td>\n",
              "      <td>0</td>\n",
              "    </tr>\n",
              "    <tr>\n",
              "      <th>2</th>\n",
              "      <td>1.3.6.1.4.1.14519.5.2.1.6279.6001.100225287222...</td>\n",
              "      <td>-24.766755</td>\n",
              "      <td>-120.379294</td>\n",
              "      <td>-273.361539</td>\n",
              "      <td>0</td>\n",
              "    </tr>\n",
              "    <tr>\n",
              "      <th>3</th>\n",
              "      <td>1.3.6.1.4.1.14519.5.2.1.6279.6001.100225287222...</td>\n",
              "      <td>-63.080000</td>\n",
              "      <td>-65.740000</td>\n",
              "      <td>-344.240000</td>\n",
              "      <td>0</td>\n",
              "    </tr>\n",
              "    <tr>\n",
              "      <th>4</th>\n",
              "      <td>1.3.6.1.4.1.14519.5.2.1.6279.6001.100225287222...</td>\n",
              "      <td>52.946688</td>\n",
              "      <td>-92.688873</td>\n",
              "      <td>-241.067872</td>\n",
              "      <td>0</td>\n",
              "    </tr>\n",
              "  </tbody>\n",
              "</table>\n",
              "</div>\n",
              "    <div class=\"colab-df-buttons\">\n",
              "\n",
              "  <div class=\"colab-df-container\">\n",
              "    <button class=\"colab-df-convert\" onclick=\"convertToInteractive('df-9be4de53-bee8-4c5a-9566-9b14956c39c6')\"\n",
              "            title=\"Convert this dataframe to an interactive table.\"\n",
              "            style=\"display:none;\">\n",
              "\n",
              "  <svg xmlns=\"http://www.w3.org/2000/svg\" height=\"24px\" viewBox=\"0 -960 960 960\">\n",
              "    <path d=\"M120-120v-720h720v720H120Zm60-500h600v-160H180v160Zm220 220h160v-160H400v160Zm0 220h160v-160H400v160ZM180-400h160v-160H180v160Zm440 0h160v-160H620v160ZM180-180h160v-160H180v160Zm440 0h160v-160H620v160Z\"/>\n",
              "  </svg>\n",
              "    </button>\n",
              "\n",
              "  <style>\n",
              "    .colab-df-container {\n",
              "      display:flex;\n",
              "      gap: 12px;\n",
              "    }\n",
              "\n",
              "    .colab-df-convert {\n",
              "      background-color: #E8F0FE;\n",
              "      border: none;\n",
              "      border-radius: 50%;\n",
              "      cursor: pointer;\n",
              "      display: none;\n",
              "      fill: #1967D2;\n",
              "      height: 32px;\n",
              "      padding: 0 0 0 0;\n",
              "      width: 32px;\n",
              "    }\n",
              "\n",
              "    .colab-df-convert:hover {\n",
              "      background-color: #E2EBFA;\n",
              "      box-shadow: 0px 1px 2px rgba(60, 64, 67, 0.3), 0px 1px 3px 1px rgba(60, 64, 67, 0.15);\n",
              "      fill: #174EA6;\n",
              "    }\n",
              "\n",
              "    .colab-df-buttons div {\n",
              "      margin-bottom: 4px;\n",
              "    }\n",
              "\n",
              "    [theme=dark] .colab-df-convert {\n",
              "      background-color: #3B4455;\n",
              "      fill: #D2E3FC;\n",
              "    }\n",
              "\n",
              "    [theme=dark] .colab-df-convert:hover {\n",
              "      background-color: #434B5C;\n",
              "      box-shadow: 0px 1px 3px 1px rgba(0, 0, 0, 0.15);\n",
              "      filter: drop-shadow(0px 1px 2px rgba(0, 0, 0, 0.3));\n",
              "      fill: #FFFFFF;\n",
              "    }\n",
              "  </style>\n",
              "\n",
              "    <script>\n",
              "      const buttonEl =\n",
              "        document.querySelector('#df-9be4de53-bee8-4c5a-9566-9b14956c39c6 button.colab-df-convert');\n",
              "      buttonEl.style.display =\n",
              "        google.colab.kernel.accessAllowed ? 'block' : 'none';\n",
              "\n",
              "      async function convertToInteractive(key) {\n",
              "        const element = document.querySelector('#df-9be4de53-bee8-4c5a-9566-9b14956c39c6');\n",
              "        const dataTable =\n",
              "          await google.colab.kernel.invokeFunction('convertToInteractive',\n",
              "                                                    [key], {});\n",
              "        if (!dataTable) return;\n",
              "\n",
              "        const docLinkHtml = 'Like what you see? Visit the ' +\n",
              "          '<a target=\"_blank\" href=https://colab.research.google.com/notebooks/data_table.ipynb>data table notebook</a>'\n",
              "          + ' to learn more about interactive tables.';\n",
              "        element.innerHTML = '';\n",
              "        dataTable['output_type'] = 'display_data';\n",
              "        await google.colab.output.renderOutput(dataTable, element);\n",
              "        const docLink = document.createElement('div');\n",
              "        docLink.innerHTML = docLinkHtml;\n",
              "        element.appendChild(docLink);\n",
              "      }\n",
              "    </script>\n",
              "  </div>\n",
              "\n",
              "\n",
              "<div id=\"df-3b8fd2c3-8b74-4c90-a950-8715d6378cdb\">\n",
              "  <button class=\"colab-df-quickchart\" onclick=\"quickchart('df-3b8fd2c3-8b74-4c90-a950-8715d6378cdb')\"\n",
              "            title=\"Suggest charts\"\n",
              "            style=\"display:none;\">\n",
              "\n",
              "<svg xmlns=\"http://www.w3.org/2000/svg\" height=\"24px\"viewBox=\"0 0 24 24\"\n",
              "     width=\"24px\">\n",
              "    <g>\n",
              "        <path d=\"M19 3H5c-1.1 0-2 .9-2 2v14c0 1.1.9 2 2 2h14c1.1 0 2-.9 2-2V5c0-1.1-.9-2-2-2zM9 17H7v-7h2v7zm4 0h-2V7h2v10zm4 0h-2v-4h2v4z\"/>\n",
              "    </g>\n",
              "</svg>\n",
              "  </button>\n",
              "\n",
              "<style>\n",
              "  .colab-df-quickchart {\n",
              "      --bg-color: #E8F0FE;\n",
              "      --fill-color: #1967D2;\n",
              "      --hover-bg-color: #E2EBFA;\n",
              "      --hover-fill-color: #174EA6;\n",
              "      --disabled-fill-color: #AAA;\n",
              "      --disabled-bg-color: #DDD;\n",
              "  }\n",
              "\n",
              "  [theme=dark] .colab-df-quickchart {\n",
              "      --bg-color: #3B4455;\n",
              "      --fill-color: #D2E3FC;\n",
              "      --hover-bg-color: #434B5C;\n",
              "      --hover-fill-color: #FFFFFF;\n",
              "      --disabled-bg-color: #3B4455;\n",
              "      --disabled-fill-color: #666;\n",
              "  }\n",
              "\n",
              "  .colab-df-quickchart {\n",
              "    background-color: var(--bg-color);\n",
              "    border: none;\n",
              "    border-radius: 50%;\n",
              "    cursor: pointer;\n",
              "    display: none;\n",
              "    fill: var(--fill-color);\n",
              "    height: 32px;\n",
              "    padding: 0;\n",
              "    width: 32px;\n",
              "  }\n",
              "\n",
              "  .colab-df-quickchart:hover {\n",
              "    background-color: var(--hover-bg-color);\n",
              "    box-shadow: 0 1px 2px rgba(60, 64, 67, 0.3), 0 1px 3px 1px rgba(60, 64, 67, 0.15);\n",
              "    fill: var(--button-hover-fill-color);\n",
              "  }\n",
              "\n",
              "  .colab-df-quickchart-complete:disabled,\n",
              "  .colab-df-quickchart-complete:disabled:hover {\n",
              "    background-color: var(--disabled-bg-color);\n",
              "    fill: var(--disabled-fill-color);\n",
              "    box-shadow: none;\n",
              "  }\n",
              "\n",
              "  .colab-df-spinner {\n",
              "    border: 2px solid var(--fill-color);\n",
              "    border-color: transparent;\n",
              "    border-bottom-color: var(--fill-color);\n",
              "    animation:\n",
              "      spin 1s steps(1) infinite;\n",
              "  }\n",
              "\n",
              "  @keyframes spin {\n",
              "    0% {\n",
              "      border-color: transparent;\n",
              "      border-bottom-color: var(--fill-color);\n",
              "      border-left-color: var(--fill-color);\n",
              "    }\n",
              "    20% {\n",
              "      border-color: transparent;\n",
              "      border-left-color: var(--fill-color);\n",
              "      border-top-color: var(--fill-color);\n",
              "    }\n",
              "    30% {\n",
              "      border-color: transparent;\n",
              "      border-left-color: var(--fill-color);\n",
              "      border-top-color: var(--fill-color);\n",
              "      border-right-color: var(--fill-color);\n",
              "    }\n",
              "    40% {\n",
              "      border-color: transparent;\n",
              "      border-right-color: var(--fill-color);\n",
              "      border-top-color: var(--fill-color);\n",
              "    }\n",
              "    60% {\n",
              "      border-color: transparent;\n",
              "      border-right-color: var(--fill-color);\n",
              "    }\n",
              "    80% {\n",
              "      border-color: transparent;\n",
              "      border-right-color: var(--fill-color);\n",
              "      border-bottom-color: var(--fill-color);\n",
              "    }\n",
              "    90% {\n",
              "      border-color: transparent;\n",
              "      border-bottom-color: var(--fill-color);\n",
              "    }\n",
              "  }\n",
              "</style>\n",
              "\n",
              "  <script>\n",
              "    async function quickchart(key) {\n",
              "      const quickchartButtonEl =\n",
              "        document.querySelector('#' + key + ' button');\n",
              "      quickchartButtonEl.disabled = true;  // To prevent multiple clicks.\n",
              "      quickchartButtonEl.classList.add('colab-df-spinner');\n",
              "      try {\n",
              "        const charts = await google.colab.kernel.invokeFunction(\n",
              "            'suggestCharts', [key], {});\n",
              "      } catch (error) {\n",
              "        console.error('Error during call to suggestCharts:', error);\n",
              "      }\n",
              "      quickchartButtonEl.classList.remove('colab-df-spinner');\n",
              "      quickchartButtonEl.classList.add('colab-df-quickchart-complete');\n",
              "    }\n",
              "    (() => {\n",
              "      let quickchartButtonEl =\n",
              "        document.querySelector('#df-3b8fd2c3-8b74-4c90-a950-8715d6378cdb button');\n",
              "      quickchartButtonEl.style.display =\n",
              "        google.colab.kernel.accessAllowed ? 'block' : 'none';\n",
              "    })();\n",
              "  </script>\n",
              "</div>\n",
              "    </div>\n",
              "  </div>\n"
            ],
            "application/vnd.google.colaboratory.intrinsic+json": {
              "type": "dataframe",
              "variable_name": "df_candidates_V2"
            }
          },
          "metadata": {},
          "execution_count": 12
        }
      ]
    },
    {
      "cell_type": "markdown",
      "source": [
        "1.3 Display the number of class 0 records and the number of class 1 records.\n",
        "\n",
        "\n",
        "\n"
      ],
      "metadata": {
        "id": "YLaFfZiE_VLa"
      }
    },
    {
      "cell_type": "code",
      "source": [
        "class_counts = df_candidates_V2['class'].value_counts()\n",
        "\n",
        "print(\"Number of class 0 records:\", class_counts[0])\n",
        "print(\"Number of class 1 records:\", class_counts[1])"
      ],
      "metadata": {
        "id": "iwNl0uwq_pFI",
        "colab": {
          "base_uri": "https://localhost:8080/"
        },
        "outputId": "457d05ed-3ff8-42ad-b8de-18159c6f8210"
      },
      "execution_count": 13,
      "outputs": [
        {
          "output_type": "stream",
          "name": "stdout",
          "text": [
            "Number of class 0 records: 753418\n",
            "Number of class 1 records: 1557\n"
          ]
        }
      ]
    },
    {
      "cell_type": "markdown",
      "source": [
        "## 2. Extract Nodule Data"
      ],
      "metadata": {
        "id": "9YVauM4MA3-i"
      }
    },
    {
      "cell_type": "markdown",
      "source": [
        "2.1 Load the `candidates_processed.csv` file created from Week07_02 notebook as a data frame. Display its first 5 rows."
      ],
      "metadata": {
        "id": "j_ny4wuK_pbH"
      }
    },
    {
      "cell_type": "code",
      "source": [
        "\n",
        "csv_file_path = \"/content/drive/MyDrive/luna16/candidates.csv\"\n",
        "\n",
        "df_candidates = pd.read_csv(csv_file_path)\n",
        "\n",
        "df_candidates.shape"
      ],
      "metadata": {
        "id": "suwnYlhxAyJl",
        "colab": {
          "base_uri": "https://localhost:8080/"
        },
        "outputId": "c47800c2-971d-48f3-8ced-de0c13c2c78b"
      },
      "execution_count": 14,
      "outputs": [
        {
          "output_type": "execute_result",
          "data": {
            "text/plain": [
              "(551065, 5)"
            ]
          },
          "metadata": {},
          "execution_count": 14
        }
      ]
    },
    {
      "cell_type": "code",
      "source": [
        "df_candidates.head(5)\n"
      ],
      "metadata": {
        "colab": {
          "base_uri": "https://localhost:8080/",
          "height": 206
        },
        "id": "KF_FV5KlqHZ0",
        "outputId": "dc495c56-c0a2-4a0d-d30d-aec2b7063946"
      },
      "execution_count": 15,
      "outputs": [
        {
          "output_type": "execute_result",
          "data": {
            "text/plain": [
              "                                           seriesuid  coordX  coordY  coordZ  \\\n",
              "0  1.3.6.1.4.1.14519.5.2.1.6279.6001.100225287222...  -56.08  -67.85 -311.92   \n",
              "1  1.3.6.1.4.1.14519.5.2.1.6279.6001.100225287222...   53.21 -244.41 -245.17   \n",
              "2  1.3.6.1.4.1.14519.5.2.1.6279.6001.100225287222...  103.66 -121.80 -286.62   \n",
              "3  1.3.6.1.4.1.14519.5.2.1.6279.6001.100225287222...  -33.66  -72.75 -308.41   \n",
              "4  1.3.6.1.4.1.14519.5.2.1.6279.6001.100225287222...  -32.25  -85.36 -362.51   \n",
              "\n",
              "   class  \n",
              "0      0  \n",
              "1      0  \n",
              "2      0  \n",
              "3      0  \n",
              "4      0  "
            ],
            "text/html": [
              "\n",
              "  <div id=\"df-72ea8edc-90bd-4cb2-b8a8-6df7c0276d33\" class=\"colab-df-container\">\n",
              "    <div>\n",
              "<style scoped>\n",
              "    .dataframe tbody tr th:only-of-type {\n",
              "        vertical-align: middle;\n",
              "    }\n",
              "\n",
              "    .dataframe tbody tr th {\n",
              "        vertical-align: top;\n",
              "    }\n",
              "\n",
              "    .dataframe thead th {\n",
              "        text-align: right;\n",
              "    }\n",
              "</style>\n",
              "<table border=\"1\" class=\"dataframe\">\n",
              "  <thead>\n",
              "    <tr style=\"text-align: right;\">\n",
              "      <th></th>\n",
              "      <th>seriesuid</th>\n",
              "      <th>coordX</th>\n",
              "      <th>coordY</th>\n",
              "      <th>coordZ</th>\n",
              "      <th>class</th>\n",
              "    </tr>\n",
              "  </thead>\n",
              "  <tbody>\n",
              "    <tr>\n",
              "      <th>0</th>\n",
              "      <td>1.3.6.1.4.1.14519.5.2.1.6279.6001.100225287222...</td>\n",
              "      <td>-56.08</td>\n",
              "      <td>-67.85</td>\n",
              "      <td>-311.92</td>\n",
              "      <td>0</td>\n",
              "    </tr>\n",
              "    <tr>\n",
              "      <th>1</th>\n",
              "      <td>1.3.6.1.4.1.14519.5.2.1.6279.6001.100225287222...</td>\n",
              "      <td>53.21</td>\n",
              "      <td>-244.41</td>\n",
              "      <td>-245.17</td>\n",
              "      <td>0</td>\n",
              "    </tr>\n",
              "    <tr>\n",
              "      <th>2</th>\n",
              "      <td>1.3.6.1.4.1.14519.5.2.1.6279.6001.100225287222...</td>\n",
              "      <td>103.66</td>\n",
              "      <td>-121.80</td>\n",
              "      <td>-286.62</td>\n",
              "      <td>0</td>\n",
              "    </tr>\n",
              "    <tr>\n",
              "      <th>3</th>\n",
              "      <td>1.3.6.1.4.1.14519.5.2.1.6279.6001.100225287222...</td>\n",
              "      <td>-33.66</td>\n",
              "      <td>-72.75</td>\n",
              "      <td>-308.41</td>\n",
              "      <td>0</td>\n",
              "    </tr>\n",
              "    <tr>\n",
              "      <th>4</th>\n",
              "      <td>1.3.6.1.4.1.14519.5.2.1.6279.6001.100225287222...</td>\n",
              "      <td>-32.25</td>\n",
              "      <td>-85.36</td>\n",
              "      <td>-362.51</td>\n",
              "      <td>0</td>\n",
              "    </tr>\n",
              "  </tbody>\n",
              "</table>\n",
              "</div>\n",
              "    <div class=\"colab-df-buttons\">\n",
              "\n",
              "  <div class=\"colab-df-container\">\n",
              "    <button class=\"colab-df-convert\" onclick=\"convertToInteractive('df-72ea8edc-90bd-4cb2-b8a8-6df7c0276d33')\"\n",
              "            title=\"Convert this dataframe to an interactive table.\"\n",
              "            style=\"display:none;\">\n",
              "\n",
              "  <svg xmlns=\"http://www.w3.org/2000/svg\" height=\"24px\" viewBox=\"0 -960 960 960\">\n",
              "    <path d=\"M120-120v-720h720v720H120Zm60-500h600v-160H180v160Zm220 220h160v-160H400v160Zm0 220h160v-160H400v160ZM180-400h160v-160H180v160Zm440 0h160v-160H620v160ZM180-180h160v-160H180v160Zm440 0h160v-160H620v160Z\"/>\n",
              "  </svg>\n",
              "    </button>\n",
              "\n",
              "  <style>\n",
              "    .colab-df-container {\n",
              "      display:flex;\n",
              "      gap: 12px;\n",
              "    }\n",
              "\n",
              "    .colab-df-convert {\n",
              "      background-color: #E8F0FE;\n",
              "      border: none;\n",
              "      border-radius: 50%;\n",
              "      cursor: pointer;\n",
              "      display: none;\n",
              "      fill: #1967D2;\n",
              "      height: 32px;\n",
              "      padding: 0 0 0 0;\n",
              "      width: 32px;\n",
              "    }\n",
              "\n",
              "    .colab-df-convert:hover {\n",
              "      background-color: #E2EBFA;\n",
              "      box-shadow: 0px 1px 2px rgba(60, 64, 67, 0.3), 0px 1px 3px 1px rgba(60, 64, 67, 0.15);\n",
              "      fill: #174EA6;\n",
              "    }\n",
              "\n",
              "    .colab-df-buttons div {\n",
              "      margin-bottom: 4px;\n",
              "    }\n",
              "\n",
              "    [theme=dark] .colab-df-convert {\n",
              "      background-color: #3B4455;\n",
              "      fill: #D2E3FC;\n",
              "    }\n",
              "\n",
              "    [theme=dark] .colab-df-convert:hover {\n",
              "      background-color: #434B5C;\n",
              "      box-shadow: 0px 1px 3px 1px rgba(0, 0, 0, 0.15);\n",
              "      filter: drop-shadow(0px 1px 2px rgba(0, 0, 0, 0.3));\n",
              "      fill: #FFFFFF;\n",
              "    }\n",
              "  </style>\n",
              "\n",
              "    <script>\n",
              "      const buttonEl =\n",
              "        document.querySelector('#df-72ea8edc-90bd-4cb2-b8a8-6df7c0276d33 button.colab-df-convert');\n",
              "      buttonEl.style.display =\n",
              "        google.colab.kernel.accessAllowed ? 'block' : 'none';\n",
              "\n",
              "      async function convertToInteractive(key) {\n",
              "        const element = document.querySelector('#df-72ea8edc-90bd-4cb2-b8a8-6df7c0276d33');\n",
              "        const dataTable =\n",
              "          await google.colab.kernel.invokeFunction('convertToInteractive',\n",
              "                                                    [key], {});\n",
              "        if (!dataTable) return;\n",
              "\n",
              "        const docLinkHtml = 'Like what you see? Visit the ' +\n",
              "          '<a target=\"_blank\" href=https://colab.research.google.com/notebooks/data_table.ipynb>data table notebook</a>'\n",
              "          + ' to learn more about interactive tables.';\n",
              "        element.innerHTML = '';\n",
              "        dataTable['output_type'] = 'display_data';\n",
              "        await google.colab.output.renderOutput(dataTable, element);\n",
              "        const docLink = document.createElement('div');\n",
              "        docLink.innerHTML = docLinkHtml;\n",
              "        element.appendChild(docLink);\n",
              "      }\n",
              "    </script>\n",
              "  </div>\n",
              "\n",
              "\n",
              "<div id=\"df-1b508c8b-5710-4499-9c66-88f22df1050a\">\n",
              "  <button class=\"colab-df-quickchart\" onclick=\"quickchart('df-1b508c8b-5710-4499-9c66-88f22df1050a')\"\n",
              "            title=\"Suggest charts\"\n",
              "            style=\"display:none;\">\n",
              "\n",
              "<svg xmlns=\"http://www.w3.org/2000/svg\" height=\"24px\"viewBox=\"0 0 24 24\"\n",
              "     width=\"24px\">\n",
              "    <g>\n",
              "        <path d=\"M19 3H5c-1.1 0-2 .9-2 2v14c0 1.1.9 2 2 2h14c1.1 0 2-.9 2-2V5c0-1.1-.9-2-2-2zM9 17H7v-7h2v7zm4 0h-2V7h2v10zm4 0h-2v-4h2v4z\"/>\n",
              "    </g>\n",
              "</svg>\n",
              "  </button>\n",
              "\n",
              "<style>\n",
              "  .colab-df-quickchart {\n",
              "      --bg-color: #E8F0FE;\n",
              "      --fill-color: #1967D2;\n",
              "      --hover-bg-color: #E2EBFA;\n",
              "      --hover-fill-color: #174EA6;\n",
              "      --disabled-fill-color: #AAA;\n",
              "      --disabled-bg-color: #DDD;\n",
              "  }\n",
              "\n",
              "  [theme=dark] .colab-df-quickchart {\n",
              "      --bg-color: #3B4455;\n",
              "      --fill-color: #D2E3FC;\n",
              "      --hover-bg-color: #434B5C;\n",
              "      --hover-fill-color: #FFFFFF;\n",
              "      --disabled-bg-color: #3B4455;\n",
              "      --disabled-fill-color: #666;\n",
              "  }\n",
              "\n",
              "  .colab-df-quickchart {\n",
              "    background-color: var(--bg-color);\n",
              "    border: none;\n",
              "    border-radius: 50%;\n",
              "    cursor: pointer;\n",
              "    display: none;\n",
              "    fill: var(--fill-color);\n",
              "    height: 32px;\n",
              "    padding: 0;\n",
              "    width: 32px;\n",
              "  }\n",
              "\n",
              "  .colab-df-quickchart:hover {\n",
              "    background-color: var(--hover-bg-color);\n",
              "    box-shadow: 0 1px 2px rgba(60, 64, 67, 0.3), 0 1px 3px 1px rgba(60, 64, 67, 0.15);\n",
              "    fill: var(--button-hover-fill-color);\n",
              "  }\n",
              "\n",
              "  .colab-df-quickchart-complete:disabled,\n",
              "  .colab-df-quickchart-complete:disabled:hover {\n",
              "    background-color: var(--disabled-bg-color);\n",
              "    fill: var(--disabled-fill-color);\n",
              "    box-shadow: none;\n",
              "  }\n",
              "\n",
              "  .colab-df-spinner {\n",
              "    border: 2px solid var(--fill-color);\n",
              "    border-color: transparent;\n",
              "    border-bottom-color: var(--fill-color);\n",
              "    animation:\n",
              "      spin 1s steps(1) infinite;\n",
              "  }\n",
              "\n",
              "  @keyframes spin {\n",
              "    0% {\n",
              "      border-color: transparent;\n",
              "      border-bottom-color: var(--fill-color);\n",
              "      border-left-color: var(--fill-color);\n",
              "    }\n",
              "    20% {\n",
              "      border-color: transparent;\n",
              "      border-left-color: var(--fill-color);\n",
              "      border-top-color: var(--fill-color);\n",
              "    }\n",
              "    30% {\n",
              "      border-color: transparent;\n",
              "      border-left-color: var(--fill-color);\n",
              "      border-top-color: var(--fill-color);\n",
              "      border-right-color: var(--fill-color);\n",
              "    }\n",
              "    40% {\n",
              "      border-color: transparent;\n",
              "      border-right-color: var(--fill-color);\n",
              "      border-top-color: var(--fill-color);\n",
              "    }\n",
              "    60% {\n",
              "      border-color: transparent;\n",
              "      border-right-color: var(--fill-color);\n",
              "    }\n",
              "    80% {\n",
              "      border-color: transparent;\n",
              "      border-right-color: var(--fill-color);\n",
              "      border-bottom-color: var(--fill-color);\n",
              "    }\n",
              "    90% {\n",
              "      border-color: transparent;\n",
              "      border-bottom-color: var(--fill-color);\n",
              "    }\n",
              "  }\n",
              "</style>\n",
              "\n",
              "  <script>\n",
              "    async function quickchart(key) {\n",
              "      const quickchartButtonEl =\n",
              "        document.querySelector('#' + key + ' button');\n",
              "      quickchartButtonEl.disabled = true;  // To prevent multiple clicks.\n",
              "      quickchartButtonEl.classList.add('colab-df-spinner');\n",
              "      try {\n",
              "        const charts = await google.colab.kernel.invokeFunction(\n",
              "            'suggestCharts', [key], {});\n",
              "      } catch (error) {\n",
              "        console.error('Error during call to suggestCharts:', error);\n",
              "      }\n",
              "      quickchartButtonEl.classList.remove('colab-df-spinner');\n",
              "      quickchartButtonEl.classList.add('colab-df-quickchart-complete');\n",
              "    }\n",
              "    (() => {\n",
              "      let quickchartButtonEl =\n",
              "        document.querySelector('#df-1b508c8b-5710-4499-9c66-88f22df1050a button');\n",
              "      quickchartButtonEl.style.display =\n",
              "        google.colab.kernel.accessAllowed ? 'block' : 'none';\n",
              "    })();\n",
              "  </script>\n",
              "</div>\n",
              "    </div>\n",
              "  </div>\n"
            ],
            "application/vnd.google.colaboratory.intrinsic+json": {
              "type": "dataframe",
              "variable_name": "df_candidates"
            }
          },
          "metadata": {},
          "execution_count": 15
        }
      ]
    },
    {
      "cell_type": "markdown",
      "source": [
        "2.2 Create a list of distinct seriesuid's in the candidates_processed data frame. Display the lengh of the list and the first 5 seriesuid's."
      ],
      "metadata": {
        "id": "zFzF0nQCA9OK"
      }
    },
    {
      "cell_type": "code",
      "source": [
        "distinct_seriesuid=df_candidates['seriesuid'].unique().tolist()\n",
        "print(\"Distinct Seriesuid's Length: \",len(distinct_seriesuid))\n",
        "distinct_seriesuid[:5]"
      ],
      "metadata": {
        "id": "DOr2TlTpBQ8u",
        "colab": {
          "base_uri": "https://localhost:8080/"
        },
        "outputId": "3485fa6b-105f-43c7-b1b2-558961bf2e65"
      },
      "execution_count": 16,
      "outputs": [
        {
          "output_type": "stream",
          "name": "stdout",
          "text": [
            "Distinct Seriesuid's Length:  888\n"
          ]
        },
        {
          "output_type": "execute_result",
          "data": {
            "text/plain": [
              "['1.3.6.1.4.1.14519.5.2.1.6279.6001.100225287222365663678666836860',\n",
              " '1.3.6.1.4.1.14519.5.2.1.6279.6001.100332161840553388986847034053',\n",
              " '1.3.6.1.4.1.14519.5.2.1.6279.6001.100398138793540579077826395208',\n",
              " '1.3.6.1.4.1.14519.5.2.1.6279.6001.100530488926682752765845212286',\n",
              " '1.3.6.1.4.1.14519.5.2.1.6279.6001.100620385482151095585000946543']"
            ]
          },
          "metadata": {},
          "execution_count": 16
        }
      ]
    },
    {
      "cell_type": "markdown",
      "source": [
        "2.3 Load the `subset0.zip` from Google Drive using the file ID '1OFa8UhDvCrcTj1VkFLa7RjifEqMD4TAa'. Extract the zip file to reveal the .mhd and .raw files."
      ],
      "metadata": {
        "id": "ekjby-JxB0pw"
      }
    },
    {
      "cell_type": "code",
      "source": [
        "import os\n",
        "\n",
        "folder_path = '/content/drive/MyDrive/luna16/subset0/subset0'\n",
        "\n",
        "raw_files = []\n",
        "mhd_files = []\n",
        "\n",
        "for file_name in os.listdir(folder_path):\n",
        "    if file_name.endswith('.raw'):\n",
        "        raw_files.append(file_name)\n",
        "    elif file_name.endswith('.mhd'):\n",
        "        mhd_files.append(file_name)\n",
        "\n",
        "# Sort the lists\n",
        "raw_files.sort()\n",
        "mhd_files.sort()\n",
        "\n",
        "# Display raw and mhd files side by side\n",
        "for raw_file, mhd_file in zip(raw_files, mhd_files):\n",
        "    print(f\"Raw File: {raw_file} | MHD File: {mhd_file}\")\n"
      ],
      "metadata": {
        "id": "APzzVDhJCMg4",
        "colab": {
          "base_uri": "https://localhost:8080/"
        },
        "outputId": "31ada5e4-17ea-4c17-cce1-9fd6aae27852"
      },
      "execution_count": 17,
      "outputs": [
        {
          "output_type": "stream",
          "name": "stdout",
          "text": [
            "Raw File: 1.3.6.1.4.1.14519.5.2.1.6279.6001.105756658031515062000744821260.raw | MHD File: 1.3.6.1.4.1.14519.5.2.1.6279.6001.105756658031515062000744821260.mhd\n",
            "Raw File: 1.3.6.1.4.1.14519.5.2.1.6279.6001.108197895896446896160048741492.raw | MHD File: 1.3.6.1.4.1.14519.5.2.1.6279.6001.108197895896446896160048741492.mhd\n",
            "Raw File: 1.3.6.1.4.1.14519.5.2.1.6279.6001.109002525524522225658609808059.raw | MHD File: 1.3.6.1.4.1.14519.5.2.1.6279.6001.109002525524522225658609808059.mhd\n",
            "Raw File: 1.3.6.1.4.1.14519.5.2.1.6279.6001.111172165674661221381920536987.raw | MHD File: 1.3.6.1.4.1.14519.5.2.1.6279.6001.111172165674661221381920536987.mhd\n",
            "Raw File: 1.3.6.1.4.1.14519.5.2.1.6279.6001.122763913896761494371822656720.raw | MHD File: 1.3.6.1.4.1.14519.5.2.1.6279.6001.122763913896761494371822656720.mhd\n",
            "Raw File: 1.3.6.1.4.1.14519.5.2.1.6279.6001.124154461048929153767743874565.raw | MHD File: 1.3.6.1.4.1.14519.5.2.1.6279.6001.124154461048929153767743874565.mhd\n",
            "Raw File: 1.3.6.1.4.1.14519.5.2.1.6279.6001.126121460017257137098781143514.raw | MHD File: 1.3.6.1.4.1.14519.5.2.1.6279.6001.126121460017257137098781143514.mhd\n",
            "Raw File: 1.3.6.1.4.1.14519.5.2.1.6279.6001.126264578931778258890371755354.raw | MHD File: 1.3.6.1.4.1.14519.5.2.1.6279.6001.126264578931778258890371755354.mhd\n",
            "Raw File: 1.3.6.1.4.1.14519.5.2.1.6279.6001.128023902651233986592378348912.raw | MHD File: 1.3.6.1.4.1.14519.5.2.1.6279.6001.128023902651233986592378348912.mhd\n",
            "Raw File: 1.3.6.1.4.1.14519.5.2.1.6279.6001.129055977637338639741695800950.raw | MHD File: 1.3.6.1.4.1.14519.5.2.1.6279.6001.129055977637338639741695800950.mhd\n",
            "Raw File: 1.3.6.1.4.1.14519.5.2.1.6279.6001.130438550890816550994739120843.raw | MHD File: 1.3.6.1.4.1.14519.5.2.1.6279.6001.130438550890816550994739120843.mhd\n",
            "Raw File: 1.3.6.1.4.1.14519.5.2.1.6279.6001.134996872583497382954024478441.raw | MHD File: 1.3.6.1.4.1.14519.5.2.1.6279.6001.134996872583497382954024478441.mhd\n",
            "Raw File: 1.3.6.1.4.1.14519.5.2.1.6279.6001.137763212752154081977261297097.raw | MHD File: 1.3.6.1.4.1.14519.5.2.1.6279.6001.137763212752154081977261297097.mhd\n",
            "Raw File: 1.3.6.1.4.1.14519.5.2.1.6279.6001.138080888843357047811238713686.raw | MHD File: 1.3.6.1.4.1.14519.5.2.1.6279.6001.138080888843357047811238713686.mhd\n",
            "Raw File: 1.3.6.1.4.1.14519.5.2.1.6279.6001.139258777898746693365877042411.raw | MHD File: 1.3.6.1.4.1.14519.5.2.1.6279.6001.139258777898746693365877042411.mhd\n",
            "Raw File: 1.3.6.1.4.1.14519.5.2.1.6279.6001.139713436241461669335487719526.raw | MHD File: 1.3.6.1.4.1.14519.5.2.1.6279.6001.139713436241461669335487719526.mhd\n",
            "Raw File: 1.3.6.1.4.1.14519.5.2.1.6279.6001.141069661700670042960678408762.raw | MHD File: 1.3.6.1.4.1.14519.5.2.1.6279.6001.141069661700670042960678408762.mhd\n",
            "Raw File: 1.3.6.1.4.1.14519.5.2.1.6279.6001.144438612068946916340281098509.raw | MHD File: 1.3.6.1.4.1.14519.5.2.1.6279.6001.144438612068946916340281098509.mhd\n",
            "Raw File: 1.3.6.1.4.1.14519.5.2.1.6279.6001.146429221666426688999739595820.raw | MHD File: 1.3.6.1.4.1.14519.5.2.1.6279.6001.146429221666426688999739595820.mhd\n",
            "Raw File: 1.3.6.1.4.1.14519.5.2.1.6279.6001.154677396354641150280013275227.raw | MHD File: 1.3.6.1.4.1.14519.5.2.1.6279.6001.154677396354641150280013275227.mhd\n",
            "Raw File: 1.3.6.1.4.1.14519.5.2.1.6279.6001.187451715205085403623595258748.raw | MHD File: 1.3.6.1.4.1.14519.5.2.1.6279.6001.187451715205085403623595258748.mhd\n",
            "Raw File: 1.3.6.1.4.1.14519.5.2.1.6279.6001.188209889686363159853715266493.raw | MHD File: 1.3.6.1.4.1.14519.5.2.1.6279.6001.188209889686363159853715266493.mhd\n",
            "Raw File: 1.3.6.1.4.1.14519.5.2.1.6279.6001.188376349804761988217597754952.raw | MHD File: 1.3.6.1.4.1.14519.5.2.1.6279.6001.188376349804761988217597754952.mhd\n",
            "Raw File: 1.3.6.1.4.1.14519.5.2.1.6279.6001.194440094986948071643661798326.raw | MHD File: 1.3.6.1.4.1.14519.5.2.1.6279.6001.194440094986948071643661798326.mhd\n",
            "Raw File: 1.3.6.1.4.1.14519.5.2.1.6279.6001.194465340552956447447896167830.raw | MHD File: 1.3.6.1.4.1.14519.5.2.1.6279.6001.194465340552956447447896167830.mhd\n",
            "Raw File: 1.3.6.1.4.1.14519.5.2.1.6279.6001.202811684116768680758082619196.raw | MHD File: 1.3.6.1.4.1.14519.5.2.1.6279.6001.202811684116768680758082619196.mhd\n",
            "Raw File: 1.3.6.1.4.1.14519.5.2.1.6279.6001.210837812047373739447725050963.raw | MHD File: 1.3.6.1.4.1.14519.5.2.1.6279.6001.210837812047373739447725050963.mhd\n",
            "Raw File: 1.3.6.1.4.1.14519.5.2.1.6279.6001.213140617640021803112060161074.raw | MHD File: 1.3.6.1.4.1.14519.5.2.1.6279.6001.213140617640021803112060161074.mhd\n",
            "Raw File: 1.3.6.1.4.1.14519.5.2.1.6279.6001.216882370221919561230873289517.raw | MHD File: 1.3.6.1.4.1.14519.5.2.1.6279.6001.216882370221919561230873289517.mhd\n",
            "Raw File: 1.3.6.1.4.1.14519.5.2.1.6279.6001.219087313261026510628926082729.raw | MHD File: 1.3.6.1.4.1.14519.5.2.1.6279.6001.219087313261026510628926082729.mhd\n",
            "Raw File: 1.3.6.1.4.1.14519.5.2.1.6279.6001.219909753224298157409438012179.raw | MHD File: 1.3.6.1.4.1.14519.5.2.1.6279.6001.219909753224298157409438012179.mhd\n",
            "Raw File: 1.3.6.1.4.1.14519.5.2.1.6279.6001.227962600322799211676960828223.raw | MHD File: 1.3.6.1.4.1.14519.5.2.1.6279.6001.227962600322799211676960828223.mhd\n",
            "Raw File: 1.3.6.1.4.1.14519.5.2.1.6279.6001.231645134739451754302647733304.raw | MHD File: 1.3.6.1.4.1.14519.5.2.1.6279.6001.231645134739451754302647733304.mhd\n",
            "Raw File: 1.3.6.1.4.1.14519.5.2.1.6279.6001.238522526736091851696274044574.raw | MHD File: 1.3.6.1.4.1.14519.5.2.1.6279.6001.238522526736091851696274044574.mhd\n",
            "Raw File: 1.3.6.1.4.1.14519.5.2.1.6279.6001.241570579760883349458693655367.raw | MHD File: 1.3.6.1.4.1.14519.5.2.1.6279.6001.241570579760883349458693655367.mhd\n",
            "Raw File: 1.3.6.1.4.1.14519.5.2.1.6279.6001.249530219848512542668813996730.raw | MHD File: 1.3.6.1.4.1.14519.5.2.1.6279.6001.249530219848512542668813996730.mhd\n",
            "Raw File: 1.3.6.1.4.1.14519.5.2.1.6279.6001.250438451287314206124484591986.raw | MHD File: 1.3.6.1.4.1.14519.5.2.1.6279.6001.250438451287314206124484591986.mhd\n",
            "Raw File: 1.3.6.1.4.1.14519.5.2.1.6279.6001.250863365157630276148828903732.raw | MHD File: 1.3.6.1.4.1.14519.5.2.1.6279.6001.250863365157630276148828903732.mhd\n",
            "Raw File: 1.3.6.1.4.1.14519.5.2.1.6279.6001.269689294231892620436462818860.raw | MHD File: 1.3.6.1.4.1.14519.5.2.1.6279.6001.269689294231892620436462818860.mhd\n",
            "Raw File: 1.3.6.1.4.1.14519.5.2.1.6279.6001.272042302501586336192628818865.raw | MHD File: 1.3.6.1.4.1.14519.5.2.1.6279.6001.272042302501586336192628818865.mhd\n",
            "Raw File: 1.3.6.1.4.1.14519.5.2.1.6279.6001.277445975068759205899107114231.raw | MHD File: 1.3.6.1.4.1.14519.5.2.1.6279.6001.277445975068759205899107114231.mhd\n",
            "Raw File: 1.3.6.1.4.1.14519.5.2.1.6279.6001.278660284797073139172446973682.raw | MHD File: 1.3.6.1.4.1.14519.5.2.1.6279.6001.278660284797073139172446973682.mhd\n",
            "Raw File: 1.3.6.1.4.1.14519.5.2.1.6279.6001.280972147860943609388015648430.raw | MHD File: 1.3.6.1.4.1.14519.5.2.1.6279.6001.280972147860943609388015648430.mhd\n",
            "Raw File: 1.3.6.1.4.1.14519.5.2.1.6279.6001.281489753704424911132261151767.raw | MHD File: 1.3.6.1.4.1.14519.5.2.1.6279.6001.281489753704424911132261151767.mhd\n",
            "Raw File: 1.3.6.1.4.1.14519.5.2.1.6279.6001.293757615532132808762625441831.raw | MHD File: 1.3.6.1.4.1.14519.5.2.1.6279.6001.293757615532132808762625441831.mhd\n",
            "Raw File: 1.3.6.1.4.1.14519.5.2.1.6279.6001.294188507421106424248264912111.raw | MHD File: 1.3.6.1.4.1.14519.5.2.1.6279.6001.294188507421106424248264912111.mhd\n",
            "Raw File: 1.3.6.1.4.1.14519.5.2.1.6279.6001.295298571102631191572192562523.raw | MHD File: 1.3.6.1.4.1.14519.5.2.1.6279.6001.295298571102631191572192562523.mhd\n",
            "Raw File: 1.3.6.1.4.1.14519.5.2.1.6279.6001.295420274214095686326263147663.raw | MHD File: 1.3.6.1.4.1.14519.5.2.1.6279.6001.295420274214095686326263147663.mhd\n",
            "Raw File: 1.3.6.1.4.1.14519.5.2.1.6279.6001.302134342469412607966016057827.raw | MHD File: 1.3.6.1.4.1.14519.5.2.1.6279.6001.302134342469412607966016057827.mhd\n",
            "Raw File: 1.3.6.1.4.1.14519.5.2.1.6279.6001.303421828981831854739626597495.raw | MHD File: 1.3.6.1.4.1.14519.5.2.1.6279.6001.303421828981831854739626597495.mhd\n",
            "Raw File: 1.3.6.1.4.1.14519.5.2.1.6279.6001.305858704835252413616501469037.raw | MHD File: 1.3.6.1.4.1.14519.5.2.1.6279.6001.305858704835252413616501469037.mhd\n",
            "Raw File: 1.3.6.1.4.1.14519.5.2.1.6279.6001.310548927038333190233889983845.raw | MHD File: 1.3.6.1.4.1.14519.5.2.1.6279.6001.310548927038333190233889983845.mhd\n",
            "Raw File: 1.3.6.1.4.1.14519.5.2.1.6279.6001.310626494937915759224334597176.raw | MHD File: 1.3.6.1.4.1.14519.5.2.1.6279.6001.310626494937915759224334597176.mhd\n",
            "Raw File: 1.3.6.1.4.1.14519.5.2.1.6279.6001.311981398931043315779172047718.raw | MHD File: 1.3.6.1.4.1.14519.5.2.1.6279.6001.311981398931043315779172047718.mhd\n",
            "Raw File: 1.3.6.1.4.1.14519.5.2.1.6279.6001.313334055029671473836954456733.raw | MHD File: 1.3.6.1.4.1.14519.5.2.1.6279.6001.313334055029671473836954456733.mhd\n",
            "Raw File: 1.3.6.1.4.1.14519.5.2.1.6279.6001.313605260055394498989743099991.raw | MHD File: 1.3.6.1.4.1.14519.5.2.1.6279.6001.313605260055394498989743099991.mhd\n",
            "Raw File: 1.3.6.1.4.1.14519.5.2.1.6279.6001.313835996725364342034830119490.raw | MHD File: 1.3.6.1.4.1.14519.5.2.1.6279.6001.313835996725364342034830119490.mhd\n",
            "Raw File: 1.3.6.1.4.1.14519.5.2.1.6279.6001.317087518531899043292346860596.raw | MHD File: 1.3.6.1.4.1.14519.5.2.1.6279.6001.317087518531899043292346860596.mhd\n",
            "Raw File: 1.3.6.1.4.1.14519.5.2.1.6279.6001.323302986710576400812869264321.raw | MHD File: 1.3.6.1.4.1.14519.5.2.1.6279.6001.323302986710576400812869264321.mhd\n",
            "Raw File: 1.3.6.1.4.1.14519.5.2.1.6279.6001.323859712968543712594665815359.raw | MHD File: 1.3.6.1.4.1.14519.5.2.1.6279.6001.323859712968543712594665815359.mhd\n",
            "Raw File: 1.3.6.1.4.1.14519.5.2.1.6279.6001.332453873575389860371315979768.raw | MHD File: 1.3.6.1.4.1.14519.5.2.1.6279.6001.332453873575389860371315979768.mhd\n",
            "Raw File: 1.3.6.1.4.1.14519.5.2.1.6279.6001.333145094436144085379032922488.raw | MHD File: 1.3.6.1.4.1.14519.5.2.1.6279.6001.333145094436144085379032922488.mhd\n",
            "Raw File: 1.3.6.1.4.1.14519.5.2.1.6279.6001.334517907433161353885866806005.raw | MHD File: 1.3.6.1.4.1.14519.5.2.1.6279.6001.334517907433161353885866806005.mhd\n",
            "Raw File: 1.3.6.1.4.1.14519.5.2.1.6279.6001.395623571499047043765181005112.raw | MHD File: 1.3.6.1.4.1.14519.5.2.1.6279.6001.395623571499047043765181005112.mhd\n",
            "Raw File: 1.3.6.1.4.1.14519.5.2.1.6279.6001.397062004302272014259317520874.raw | MHD File: 1.3.6.1.4.1.14519.5.2.1.6279.6001.397062004302272014259317520874.mhd\n",
            "Raw File: 1.3.6.1.4.1.14519.5.2.1.6279.6001.404364125369979066736354549484.raw | MHD File: 1.3.6.1.4.1.14519.5.2.1.6279.6001.404364125369979066736354549484.mhd\n",
            "Raw File: 1.3.6.1.4.1.14519.5.2.1.6279.6001.417815314896088956784723476543.raw | MHD File: 1.3.6.1.4.1.14519.5.2.1.6279.6001.417815314896088956784723476543.mhd\n",
            "Raw File: 1.3.6.1.4.1.14519.5.2.1.6279.6001.430109407146633213496148200410.raw | MHD File: 1.3.6.1.4.1.14519.5.2.1.6279.6001.430109407146633213496148200410.mhd\n",
            "Raw File: 1.3.6.1.4.1.14519.5.2.1.6279.6001.450501966058662668272378865145.raw | MHD File: 1.3.6.1.4.1.14519.5.2.1.6279.6001.450501966058662668272378865145.mhd\n",
            "Raw File: 1.3.6.1.4.1.14519.5.2.1.6279.6001.511347030803753100045216493273.raw | MHD File: 1.3.6.1.4.1.14519.5.2.1.6279.6001.511347030803753100045216493273.mhd\n",
            "Raw File: 1.3.6.1.4.1.14519.5.2.1.6279.6001.525937963993475482158828421281.raw | MHD File: 1.3.6.1.4.1.14519.5.2.1.6279.6001.525937963993475482158828421281.mhd\n",
            "Raw File: 1.3.6.1.4.1.14519.5.2.1.6279.6001.534006575256943390479252771547.raw | MHD File: 1.3.6.1.4.1.14519.5.2.1.6279.6001.534006575256943390479252771547.mhd\n",
            "Raw File: 1.3.6.1.4.1.14519.5.2.1.6279.6001.534083630500464995109143618896.raw | MHD File: 1.3.6.1.4.1.14519.5.2.1.6279.6001.534083630500464995109143618896.mhd\n",
            "Raw File: 1.3.6.1.4.1.14519.5.2.1.6279.6001.564534197011295112247542153557.raw | MHD File: 1.3.6.1.4.1.14519.5.2.1.6279.6001.564534197011295112247542153557.mhd\n",
            "Raw File: 1.3.6.1.4.1.14519.5.2.1.6279.6001.566816709786169715745131047975.raw | MHD File: 1.3.6.1.4.1.14519.5.2.1.6279.6001.566816709786169715745131047975.mhd\n",
            "Raw File: 1.3.6.1.4.1.14519.5.2.1.6279.6001.621916089407825046337959219998.raw | MHD File: 1.3.6.1.4.1.14519.5.2.1.6279.6001.621916089407825046337959219998.mhd\n",
            "Raw File: 1.3.6.1.4.1.14519.5.2.1.6279.6001.640729228179368154416184318668.raw | MHD File: 1.3.6.1.4.1.14519.5.2.1.6279.6001.640729228179368154416184318668.mhd\n",
            "Raw File: 1.3.6.1.4.1.14519.5.2.1.6279.6001.657775098760536289051744981056.raw | MHD File: 1.3.6.1.4.1.14519.5.2.1.6279.6001.657775098760536289051744981056.mhd\n",
            "Raw File: 1.3.6.1.4.1.14519.5.2.1.6279.6001.716498695101447665580610403574.raw | MHD File: 1.3.6.1.4.1.14519.5.2.1.6279.6001.716498695101447665580610403574.mhd\n",
            "Raw File: 1.3.6.1.4.1.14519.5.2.1.6279.6001.724251104254976962355686318345.raw | MHD File: 1.3.6.1.4.1.14519.5.2.1.6279.6001.724251104254976962355686318345.mhd\n",
            "Raw File: 1.3.6.1.4.1.14519.5.2.1.6279.6001.752756872840730509471096155114.raw | MHD File: 1.3.6.1.4.1.14519.5.2.1.6279.6001.752756872840730509471096155114.mhd\n",
            "Raw File: 1.3.6.1.4.1.14519.5.2.1.6279.6001.805925269324902055566754756843.raw | MHD File: 1.3.6.1.4.1.14519.5.2.1.6279.6001.805925269324902055566754756843.mhd\n",
            "Raw File: 1.3.6.1.4.1.14519.5.2.1.6279.6001.826812708000318290301835871780.raw | MHD File: 1.3.6.1.4.1.14519.5.2.1.6279.6001.826812708000318290301835871780.mhd\n",
            "Raw File: 1.3.6.1.4.1.14519.5.2.1.6279.6001.832260670372728970918746541371.raw | MHD File: 1.3.6.1.4.1.14519.5.2.1.6279.6001.832260670372728970918746541371.mhd\n",
            "Raw File: 1.3.6.1.4.1.14519.5.2.1.6279.6001.868211851413924881662621747734.raw | MHD File: 1.3.6.1.4.1.14519.5.2.1.6279.6001.868211851413924881662621747734.mhd\n",
            "Raw File: 1.3.6.1.4.1.14519.5.2.1.6279.6001.898642529028521482602829374444.raw | MHD File: 1.3.6.1.4.1.14519.5.2.1.6279.6001.898642529028521482602829374444.mhd\n",
            "Raw File: 1.3.6.1.4.1.14519.5.2.1.6279.6001.905371958588660410240398317235.raw | MHD File: 1.3.6.1.4.1.14519.5.2.1.6279.6001.905371958588660410240398317235.mhd\n",
            "Raw File: 1.3.6.1.4.1.14519.5.2.1.6279.6001.975254950136384517744116790879.raw | MHD File: 1.3.6.1.4.1.14519.5.2.1.6279.6001.975254950136384517744116790879.mhd\n",
            "Raw File: 1.3.6.1.4.1.14519.5.2.1.6279.6001.979083010707182900091062408058.raw | MHD File: 1.3.6.1.4.1.14519.5.2.1.6279.6001.979083010707182900091062408058.mhd\n"
          ]
        }
      ]
    },
    {
      "cell_type": "markdown",
      "source": [
        "2.3 Write a double for-loop to extract the CT scan data for **the first 15,000** nodules:\n",
        "- The outer for loop goes through all the distince seriesuid's.\n",
        "- For each iteration of the outer loop, load the corresponding CT-scan file and create a torch tensor to represent the scan.\n",
        "- Create an inner-loop that goes through the nodules corresponding to the seriesuid:\n",
        "    - Load the (index, row, col) tuple of this nodule from the data frame.\n",
        "    - Extract a 32x48x48 chunk centered at the (index, row, col). If the nodule is near the edge of the image and there is not enough indices to extract, please pad with zeros to keep the overall shape unchanged.\n",
        "    - Use a 4D tensor to contain all the 32x48x48 chunks. The first dimension of the 4D tensor is the index of nodule.\n",
        "\n",
        "You may modify the above procedure as you like. Make sure that you are able to obtain a 4D tensor that contains all nodule data. **Display the shape of the 4D tensor.** The shape of the tensor should be (15000, 32, 48, 48).\n",
        "\n",
        "**Remark** Due to the memory limit, it is impossible to load all nodule images into simultanously. Therefore, the number of nodules required in this section is reduced to 15,000."
      ],
      "metadata": {
        "id": "S5n8827EBRKc"
      }
    },
    {
      "cell_type": "code",
      "source": [
        "with open('/content/drive/MyDrive/luna16/missing.txt', 'r') as f:\n",
        "    missing_ids = {uid.split('\\n')[0] for uid in f}\n",
        "\n",
        "diameters = {}\n",
        "\n",
        "# Loop through every annotation\n",
        "for _, row in annotations.iterrows():\n",
        "\n",
        "    center_xyz = (row.coordX, row.coordY, row.coordZ)\n",
        "\n",
        "    diameters.setdefault(row.seriesuid, []).append(\n",
        "        (center_xyz, row.diameter_mm)\n",
        "    )"
      ],
      "metadata": {
        "id": "Z2nv59_0EMHa"
      },
      "execution_count": 18,
      "outputs": []
    },
    {
      "cell_type": "code",
      "source": [
        "%%time\n",
        "CandidateInfoTuple = namedtuple(\n",
        "    'CandidateInfoTuple',\n",
        "    ['is_nodule', 'diameter_mm', 'series_uid', 'center_xyz']\n",
        ")\n",
        "\n",
        "candidates = []\n",
        "for _, row in df_candidates.iterrows():\n",
        "    candidate_center_xyz = (row.coordX, row.coordY, row.coordZ)\n",
        "    candidate_diameter = 0.0\n",
        "    for annotation in diameters.get(row.seriesuid, []):\n",
        "\n",
        "        annotation_center_xyz, annotation_diameter = annotation\n",
        "        for i in range(3):\n",
        "            delta = abs(candidate_center_xyz[i] - annotation_center_xyz[i])\n",
        "            if delta > annotation_diameter / 4:\n",
        "                    break\n",
        "        else:\n",
        "            candidate_diameter = annotation_diameter\n",
        "            break\n",
        "    candidates.append(CandidateInfoTuple(\n",
        "        bool(row['class']),\n",
        "        candidate_diameter,\n",
        "        row.seriesuid,\n",
        "        candidate_center_xyz\n",
        "    ))\n",
        "candidates.sort(reverse=True)\n"
      ],
      "metadata": {
        "colab": {
          "base_uri": "https://localhost:8080/"
        },
        "id": "ut2XzwKDwhil",
        "outputId": "6e8481c4-3bd9-4c1d-dce7-8f58fa0a827e"
      },
      "execution_count": 19,
      "outputs": [
        {
          "output_type": "stream",
          "name": "stdout",
          "text": [
            "CPU times: user 1min 4s, sys: 553 ms, total: 1min 5s\n",
            "Wall time: 1min 6s\n"
          ]
        }
      ]
    },
    {
      "cell_type": "code",
      "source": [
        "filtered_candidates = list(filter(lambda x: x.series_uid not in missing_ids, candidates))\n",
        "\n",
        "print(f'All candidates in dataset: {len(candidates)}')\n",
        "print(f'Candidates with CT scan  : {len(filtered_candidates)}')"
      ],
      "metadata": {
        "colab": {
          "base_uri": "https://localhost:8080/"
        },
        "id": "4CCu36tBxzBE",
        "outputId": "b049903e-5aa0-4064-cd49-cc3f723f7cd3"
      },
      "execution_count": 20,
      "outputs": [
        {
          "output_type": "stream",
          "name": "stdout",
          "text": [
            "All candidates in dataset: 551065\n",
            "Candidates with CT scan  : 275358\n"
          ]
        }
      ]
    },
    {
      "cell_type": "code",
      "source": [
        "class LunaDataset(Dataset):\n",
        "    def __init__(self, is_validation_set=False, validation_stride=0, is_testing_set=False):\n",
        "        '''Create a PyTorch dataset for the CT scans\n",
        "\n",
        "        If `is_validation_set` is `True`, then every `validation_stride` item is kept.\n",
        "        Otherwise, every `validation_stride` item is deleted.\n",
        "        If `is_testing_set` is `True`, all items are kept regardless of `is_validation_set`.\n",
        "        '''\n",
        "        self.candidates = copy.copy(filtered_candidates[::350])\n",
        "\n",
        "        # If this is the validation set, keep every `validation_stride` item\n",
        "        if is_validation_set:\n",
        "            self.candidates = self.candidates[::validation_stride]\n",
        "\n",
        "        # If this is the training set, delete every `validation_stride` item\n",
        "        elif validation_stride != 0:\n",
        "            del self.candidates[::validation_stride]\n",
        "\n",
        "        # If this is the testing set, keep all items\n",
        "        if is_testing_set:\n",
        "            pass\n",
        "\n",
        "    def __len__(self):\n",
        "        '''Returns the number of items in the dataset'''\n",
        "        return len(self.candidates)\n",
        "\n",
        "    def __getitem__(self, i):\n",
        "        '''Get the `i`th item in the dataset'''\n",
        "\n",
        "        # Get the `i`th candidate\n",
        "        candidate = self.candidates[i]\n",
        "\n",
        "        # We want to resize each CT scan to the following dimensions\n",
        "        dims_irc = (10, 18, 18)\n",
        "\n",
        "        # Use the utility function to fetch the CT scan\n",
        "        ct_scan_np = getCtScanChunk(candidate.series_uid, candidate.center_xyz, dims_irc)\n",
        "\n",
        "        # Convert the CT scan to a tensor\n",
        "        ct_scan_tensor = torch.from_numpy(ct_scan_np).to(torch.float32).unsqueeze(0)\n",
        "\n",
        "        # Convert the target to a tensor\n",
        "        label_tensor = torch.tensor([\n",
        "            not candidate.is_nodule,\n",
        "            candidate.is_nodule\n",
        "        ], dtype=torch.long)\n",
        "\n",
        "        return ct_scan_tensor, label_tensor\n"
      ],
      "metadata": {
        "id": "1IDQyJHm_IMn"
      },
      "execution_count": 21,
      "outputs": []
    },
    {
      "cell_type": "code",
      "source": [
        "\n",
        "validation_stride = 10\n",
        "batch_size = 32\n",
        "\n",
        "# Create training dataset and dataloader\n",
        "train_ds = LunaDataset(is_validation_set=False, validation_stride=validation_stride)\n",
        "train_dl = DataLoader(train_ds, batch_size=batch_size, num_workers=0)\n",
        "\n",
        "# Create validation dataset and dataloader\n",
        "val_ds = LunaDataset(is_validation_set=True, validation_stride=validation_stride)\n",
        "val_dl = DataLoader(val_ds, batch_size=batch_size, num_workers=0)\n",
        "\n",
        "# Create testing dataset and dataloader\n",
        "test_ds = LunaDataset(is_validation_set=False, is_testing_set=True)\n",
        "test_dl = DataLoader(test_ds, batch_size=batch_size, num_workers=0)\n"
      ],
      "metadata": {
        "id": "USCADOWE_Ob0"
      },
      "execution_count": 22,
      "outputs": []
    },
    {
      "cell_type": "code",
      "source": [
        "class GzipDisk(Disk):\n",
        "    def store(self, value, read, key=None):\n",
        "        if type(value) is BytesType:\n",
        "            if read:\n",
        "                value = value.read()\n",
        "                read = False\n",
        "\n",
        "            str_io = BytesIO()\n",
        "            gz_file = gzip.GzipFile(mode='wb', compresslevel=1, fileobj=str_io)\n",
        "\n",
        "            for offset in range(0, len(value), 2**30):\n",
        "                gz_file.write(value[offset:offset+2**30])\n",
        "            gz_file.close()\n",
        "\n",
        "            value = str_io.getvalue()\n",
        "\n",
        "        return super(GzipDisk, self).store(value, read)\n",
        "\n",
        "\n",
        "    def fetch(self, mode, filename, value, read):\n",
        "        value = super(GzipDisk, self).fetch(mode, filename, value, read)\n",
        "\n",
        "        if mode == MODE_BINARY:\n",
        "            str_io = BytesIO(value)\n",
        "            gz_file = gzip.GzipFile(mode='rb', fileobj=str_io)\n",
        "            read_csio = BytesIO()\n",
        "\n",
        "            while True:\n",
        "                uncompressed_data = gz_file.read(2**30)\n",
        "                if uncompressed_data:\n",
        "                    read_csio.write(uncompressed_data)\n",
        "                else:\n",
        "                    break\n",
        "\n",
        "            value = read_csio.getvalue()\n",
        "\n",
        "        return value\n",
        "\n",
        "def getCache(scope_str):\n",
        "    return FanoutCache('data-unversioned/cache/' + scope_str,\n",
        "                       disk=GzipDisk,\n",
        "                       shards=64,\n",
        "                       timeout=1,\n",
        "                       size_limit=3e11,\n",
        "                       )\n",
        "\n",
        "raw_cache = getCache('ct_scan_raw')\n",
        "\n",
        "@raw_cache.memoize(typed=True)\n",
        "def getCtScanChunk(series_uid, center_xyz, dims_irc):\n",
        "\n",
        "        filepaths = glob.glob(f'/content/drive/MyDrive/luna16/subset*/*/{series_uid}.mhd')\n",
        "        assert len(filepaths) != 0, f'CT scan with seriesuid {series_uid} not found!'\n",
        "        mhd_file_path = filepaths[0]\n",
        "\n",
        "        mhd_file = sitk.ReadImage(mhd_file_path)\n",
        "        ct_scan = np.array(sitk.GetArrayFromImage(mhd_file), dtype=np.float32)\n",
        "        ct_scan.clip(-1000, 1000, ct_scan)\n",
        "\n",
        "        origin_xyz = mhd_file.GetOrigin()\n",
        "        voxel_size_xyz = mhd_file.GetSpacing()\n",
        "        direction_matrix = np.array(mhd_file.GetDirection()).reshape(3, 3)\n",
        "\n",
        "        origin_xyz_np = np.array(origin_xyz)\n",
        "        voxel_size_xyz_np = np.array(voxel_size_xyz)\n",
        "\n",
        "        cri = ((center_xyz - origin_xyz_np) @ np.linalg.inv(direction_matrix)) / voxel_size_xyz_np\n",
        "        cri = np.round(cri)\n",
        "        irc = (int(cri[2]), int(cri[1]), int(cri[0]))\n",
        "\n",
        "        slice_list = []\n",
        "        for axis, center_val in enumerate(irc):\n",
        "\n",
        "            start_index = int(round(center_val - dims_irc[axis]/2))\n",
        "            end_index = int(start_index + dims_irc[axis])\n",
        "\n",
        "            if start_index < 0:\n",
        "                start_index = 0\n",
        "                end_index = int(dims_irc[axis])\n",
        "\n",
        "            if end_index > ct_scan.shape[axis]:\n",
        "                end_index = ct_scan.shape[axis]\n",
        "                start_index = int(ct_scan.shape[axis] - dims_irc[axis])\n",
        "\n",
        "            slice_list.append(slice(start_index, end_index))\n",
        "\n",
        "        ct_scan_chunk = ct_scan[tuple(slice_list)]\n",
        "\n",
        "        return ct_scan_chunk"
      ],
      "metadata": {
        "id": "T_52k5fV_TIG"
      },
      "execution_count": 23,
      "outputs": []
    },
    {
      "cell_type": "markdown",
      "source": [
        "## 3. Model Design and Implementation"
      ],
      "metadata": {
        "id": "24KcclJsENbd"
      }
    },
    {
      "cell_type": "markdown",
      "source": [
        "3.1 Design a neural network model with only a flatten layer and several dense layers for classifying lung nodules."
      ],
      "metadata": {
        "id": "Z7KXp4J0EQvs"
      }
    },
    {
      "cell_type": "code",
      "source": [
        "class LunaModel(nn.Module):\n",
        "\n",
        "    def __init__(self):\n",
        "\n",
        "        super().__init__()\n",
        "\n",
        "        self.conv1 = nn.Conv3d(1, 32, kernel_size=3, padding=1, bias=True)\n",
        "        self.relu1 = nn.ReLU()\n",
        "        self.maxpool1 = nn.MaxPool3d(2)\n",
        "\n",
        "        self.conv2 = nn.Conv3d(32, 64, kernel_size=3, padding=1, bias=True)\n",
        "        self.relu2 = nn.ReLU()\n",
        "        self.maxpool2 = nn.MaxPool3d(2)\n",
        "\n",
        "        self.flatten = nn.Flatten()\n",
        "\n",
        "        self.fc1 = nn.Linear(2048, 1024)\n",
        "        self.relu3 = nn.ReLU()\n",
        "\n",
        "        self.dropout = nn.Dropout(0.2)\n",
        "\n",
        "        self.fc2 = nn.Linear(1024, 2)\n",
        "\n",
        "    def forward(self, X):\n",
        "        X = self.maxpool1(self.relu1(self.conv1(X)))\n",
        "        X = self.maxpool2(self.relu2(self.conv2(X)))\n",
        "\n",
        "        X = self.flatten(X)\n",
        "\n",
        "        X = self.relu3(self.fc1(X))\n",
        "        X = self.dropout(X)\n",
        "\n",
        "        return self.fc2(X)\n",
        ""
      ],
      "metadata": {
        "id": "p8PtyhoAEmhC"
      },
      "execution_count": 24,
      "outputs": []
    },
    {
      "cell_type": "code",
      "source": [
        "model = LunaModel()\n",
        "device = torch.device(\"cuda:0\" if torch.cuda.is_available() else \"cpu\")\n",
        "model = model.to(device)"
      ],
      "metadata": {
        "id": "9T-RcC_KZw0G"
      },
      "execution_count": 25,
      "outputs": []
    },
    {
      "cell_type": "markdown",
      "source": [
        "3.2 Create an object to represent the loss function."
      ],
      "metadata": {
        "id": "VcDL-bz0Em61"
      }
    },
    {
      "cell_type": "code",
      "source": [
        "criterion = nn.CrossEntropyLoss()"
      ],
      "metadata": {
        "id": "NmqChQUaEmNU"
      },
      "execution_count": 26,
      "outputs": []
    },
    {
      "cell_type": "markdown",
      "source": [
        "3.3 Create an object to represent the optimizer."
      ],
      "metadata": {
        "id": "2zTdz_qyEt4T"
      }
    },
    {
      "cell_type": "code",
      "source": [
        "optimizer = optim.AdamW(model.parameters(), weight_decay=0.1)"
      ],
      "metadata": {
        "id": "qm_G-iVfEwQ7"
      },
      "execution_count": 27,
      "outputs": []
    },
    {
      "cell_type": "markdown",
      "source": [
        "3.4 Create a function to represent the training loop.\n"
      ],
      "metadata": {
        "id": "3wwyhtrFEwe_"
      }
    },
    {
      "cell_type": "code",
      "source": [
        "def train_loop(model, dataloader, criterion, optimizer, ds_size):\n",
        "    '''Train the model for one epoch'''\n",
        "\n",
        "    model.train()\n",
        "\n",
        "    running_loss = 0.0\n",
        "    running_corrects = 0\n",
        "    running_pos = 0\n",
        "    running_pos_correct = 0\n",
        "    running_neg = 0\n",
        "    running_neg_correct = 0\n",
        "\n",
        "    for inputs, labels in tqdm(dataloader):\n",
        "\n",
        "        inputs = inputs.to(device)\n",
        "        labels = labels.to(device)\n",
        "        optimizer.zero_grad()\n",
        "\n",
        "        outputs = model(inputs)\n",
        "        _, preds = torch.max(outputs, 1)\n",
        "\n",
        "        loss = criterion(outputs, labels[:,1])\n",
        "        loss.backward()\n",
        "\n",
        "        optimizer.step()\n",
        "        running_loss += loss.item() * inputs.size(0)\n",
        "        running_corrects += torch.sum(preds == labels.data[:,1])\n",
        "        running_pos += labels.data[:,1].sum()\n",
        "        running_pos_correct += ((preds == labels.data[:,1]) & (labels.data[:,1] == 1)).sum()\n",
        "\n",
        "        running_neg += labels.data[:,0].sum()\n",
        "        running_neg_correct += ((preds == labels.data[:,1]) & (labels.data[:,1] == 0)).sum()\n",
        "\n",
        "    epoch_loss = running_loss / ds_size\n",
        "    epoch_acc = running_corrects.double() / ds_size\n",
        "\n",
        "    return epoch_loss, epoch_acc, (running_pos_correct, running_pos), (running_neg_correct, running_neg)\n",
        ""
      ],
      "metadata": {
        "id": "JIoSK7NIEzsy"
      },
      "execution_count": 28,
      "outputs": []
    },
    {
      "cell_type": "code",
      "source": [
        "def eval_loop(model, dataloader, criterion, ds_size):\n",
        "    '''Evaluate the model performance for one epoch'''\n",
        "    model.eval()\n",
        "    running_loss = 0.0\n",
        "    running_corrects = 0\n",
        "    running_pos = 0\n",
        "    running_pos_correct = 0\n",
        "    running_neg = 0\n",
        "    running_neg_correct = 0\n",
        "\n",
        "    with torch.no_grad():\n",
        "\n",
        "        for inputs, labels in tqdm(dataloader):\n",
        "            inputs = inputs.to(device)\n",
        "            labels = labels.to(device)\n",
        "\n",
        "            outputs = model(inputs)\n",
        "            _, preds = torch.max(outputs, 1)\n",
        "            loss = criterion(outputs, labels[:,1])\n",
        "\n",
        "            running_loss += loss.item() * inputs.size(0)\n",
        "            running_corrects += torch.sum(preds == labels.data[:,1])\n",
        "\n",
        "            running_pos += labels.data[:,1].sum()\n",
        "            running_pos_correct += ((preds == labels.data[:,1]) & (labels.data[:,1] == 1)).sum()\n",
        "\n",
        "            running_neg += labels.data[:,0].sum()\n",
        "            running_neg_correct += ((preds == labels.data[:,1]) & (labels.data[:,1] == 0)).sum()\n",
        "\n",
        "    epoch_loss = running_loss / ds_size\n",
        "    epoch_acc = running_corrects.double() / ds_size\n",
        "\n",
        "    return epoch_loss, epoch_acc, (running_pos_correct, running_pos), (running_neg_correct, running_neg)"
      ],
      "metadata": {
        "id": "RTwXN3wPBzEx"
      },
      "execution_count": 29,
      "outputs": []
    },
    {
      "cell_type": "markdown",
      "source": [
        "3.5 Execute the training loop. Display the change of training loss during the training process."
      ],
      "metadata": {
        "id": "LQeI4It3Ez-Z"
      }
    },
    {
      "cell_type": "code",
      "source": [
        "from tqdm import tqdm\n",
        "\n",
        "epochs = 5\n",
        "\n",
        "for epoch in range(epochs):\n",
        "    epoch_start = time.time()\n",
        "\n",
        "    train_loss, train_acc, train_pos, train_neg = train_loop(\n",
        "        model, train_dl, criterion, optimizer, len(train_ds)\n",
        "    )\n",
        "    val_loss, val_acc, val_pos, val_neg = eval_loop(\n",
        "        model, val_dl, criterion, len(val_ds)\n",
        "    )\n",
        "\n",
        "    time_elapsed = time.time() - epoch_start\n",
        "\n",
        "    tqdm.write(f\"Epoch: {epoch+1:02} | Epoch Time: {time_elapsed // 60:.0f}m {time_elapsed % 60:.0f}s\")\n",
        "    tqdm.write(f\"\\tTrain Loss: {train_loss:.3f} | Train Acc: {train_acc*100:.2f}%\")\n",
        "    tqdm.write(f\"\\tTrain - correct pos: {train_pos[0]}/{train_pos[1]} | correct neg: {train_neg[0]}/{train_neg[1]}\")\n",
        "    tqdm.write(f\"\\tVal. Loss: {val_loss:.3f} | Val. Acc: {val_acc*100:.2f}%\")\n",
        "    tqdm.write(f\"\\tVal. - correct pos: {val_pos[0]}/{val_pos[1]} | correct neg: {val_neg[0]}/{val_neg[1]}\")\n"
      ],
      "metadata": {
        "id": "mziEz2wmFCMf",
        "colab": {
          "base_uri": "https://localhost:8080/"
        },
        "outputId": "944f7aa1-431b-41f9-f497-50a8eeeb1ed8"
      },
      "execution_count": 30,
      "outputs": [
        {
          "output_type": "stream",
          "name": "stderr",
          "text": [
            "100%|██████████| 23/23 [06:12<00:00, 16.21s/it]\n",
            "100%|██████████| 3/3 [03:39<00:00, 73.03s/it]\n"
          ]
        },
        {
          "output_type": "stream",
          "name": "stdout",
          "text": [
            "Epoch: 01 | Epoch Time: 9m 52s\n",
            "\tTrain Loss: 0.992 | Train Acc: 96.19%\n",
            "\tTrain - correct pos: 1/2 | correct neg: 680/706\n",
            "\tVal. Loss: 55.305 | Val. Acc: 98.73%\n",
            "\tVal. - correct pos: 0/1 | correct neg: 78/78\n"
          ]
        },
        {
          "output_type": "stream",
          "name": "stderr",
          "text": [
            "100%|██████████| 23/23 [00:05<00:00,  4.41it/s]\n",
            "100%|██████████| 3/3 [00:00<00:00, 13.59it/s]\n"
          ]
        },
        {
          "output_type": "stream",
          "name": "stdout",
          "text": [
            "Epoch: 02 | Epoch Time: 0m 5s\n",
            "\tTrain Loss: 121.893 | Train Acc: 99.72%\n",
            "\tTrain - correct pos: 0/2 | correct neg: 706/706\n",
            "\tVal. Loss: 1.824 | Val. Acc: 98.73%\n",
            "\tVal. - correct pos: 0/1 | correct neg: 78/78\n"
          ]
        },
        {
          "output_type": "stream",
          "name": "stderr",
          "text": [
            "100%|██████████| 23/23 [00:04<00:00,  4.79it/s]\n",
            "100%|██████████| 3/3 [00:00<00:00, 13.45it/s]\n"
          ]
        },
        {
          "output_type": "stream",
          "name": "stdout",
          "text": [
            "Epoch: 03 | Epoch Time: 0m 5s\n",
            "\tTrain Loss: 4.602 | Train Acc: 99.58%\n",
            "\tTrain - correct pos: 0/2 | correct neg: 705/706\n",
            "\tVal. Loss: 2.914 | Val. Acc: 98.73%\n",
            "\tVal. - correct pos: 0/1 | correct neg: 78/78\n"
          ]
        },
        {
          "output_type": "stream",
          "name": "stderr",
          "text": [
            "100%|██████████| 23/23 [00:06<00:00,  3.58it/s]\n",
            "100%|██████████| 3/3 [00:00<00:00, 15.41it/s]\n"
          ]
        },
        {
          "output_type": "stream",
          "name": "stdout",
          "text": [
            "Epoch: 04 | Epoch Time: 0m 7s\n",
            "\tTrain Loss: 0.676 | Train Acc: 99.29%\n",
            "\tTrain - correct pos: 0/2 | correct neg: 703/706\n",
            "\tVal. Loss: 1.440 | Val. Acc: 98.73%\n",
            "\tVal. - correct pos: 0/1 | correct neg: 78/78\n"
          ]
        },
        {
          "output_type": "stream",
          "name": "stderr",
          "text": [
            "100%|██████████| 23/23 [00:05<00:00,  4.24it/s]\n",
            "100%|██████████| 3/3 [00:00<00:00, 14.74it/s]"
          ]
        },
        {
          "output_type": "stream",
          "name": "stdout",
          "text": [
            "Epoch: 05 | Epoch Time: 0m 6s\n",
            "\tTrain Loss: 0.268 | Train Acc: 99.44%\n",
            "\tTrain - correct pos: 0/2 | correct neg: 704/706\n",
            "\tVal. Loss: 1.204 | Val. Acc: 98.73%\n",
            "\tVal. - correct pos: 0/1 | correct neg: 78/78\n"
          ]
        },
        {
          "output_type": "stream",
          "name": "stderr",
          "text": [
            "\n"
          ]
        }
      ]
    },
    {
      "cell_type": "markdown",
      "source": [
        "## 4. Model Evaluation and Analysis"
      ],
      "metadata": {
        "id": "SFZmUtk4FCnP"
      }
    },
    {
      "cell_type": "markdown",
      "source": [
        "4.1 Obtain the model's prediction on the test set."
      ],
      "metadata": {
        "id": "fdMogOg0FF7F"
      }
    },
    {
      "cell_type": "code",
      "source": [
        "test_loss, test_acc, test_pos, test_neg = eval_loop(\n",
        "    model, test_dl, criterion, len(test_ds)\n",
        ")\n",
        "\n",
        "test_acc_percentage = test_acc.item() * 100\n",
        "test_correct_pos = test_pos[0].item()\n",
        "test_total_pos = test_pos[1].item()\n",
        "test_correct_neg = test_neg[0].item()\n",
        "test_total_neg = test_neg[1].item()\n",
        "\n",
        "precision = test_correct_pos / (test_correct_pos + (test_total_neg - test_correct_neg))\n",
        "recall = test_correct_pos / test_total_pos\n"
      ],
      "metadata": {
        "id": "LxFOCkdvFFtm",
        "colab": {
          "base_uri": "https://localhost:8080/"
        },
        "outputId": "800fdcf3-348e-41b6-e820-5736f4e11fd5"
      },
      "execution_count": 33,
      "outputs": [
        {
          "output_type": "stream",
          "name": "stderr",
          "text": [
            "100%|██████████| 25/25 [00:03<00:00,  7.57it/s]\n"
          ]
        }
      ]
    },
    {
      "cell_type": "code",
      "source": [
        "model_path = '/content/drive/My Drive/model_luna16.pth'\n",
        "torch.save(model.state_dict(), model_path)\n",
        "print('Model saved to', model_path)"
      ],
      "metadata": {
        "colab": {
          "base_uri": "https://localhost:8080/"
        },
        "id": "H2hvLFE51c5h",
        "outputId": "edab4996-80fe-4a35-8537-b4f6563a3071"
      },
      "execution_count": 32,
      "outputs": [
        {
          "output_type": "stream",
          "name": "stdout",
          "text": [
            "Model saved to /content/drive/My Drive/model_luna16.pth\n"
          ]
        }
      ]
    },
    {
      "cell_type": "markdown",
      "source": [
        "4.2 Calculate the report the following metrics:\n",
        "- accuracy\n",
        "- precision\n",
        "- recall"
      ],
      "metadata": {
        "id": "yRRTayzmFLTy"
      }
    },
    {
      "cell_type": "code",
      "source": [
        "# Print precision, recall, and F1 score\n",
        "print(\"Test Loss:\", test_loss)\n",
        "print(\"Test Accuracy:\", f\"{test_acc_percentage:.2f}%\")\n",
        "\n",
        "print(\"Precision:\", f\"{precision:.2f}\")\n",
        "print(\"Recall:\", f\"{recall:.2f}\")\n",
        "\n",
        "print(\"Test Correct Positive:\", f\"{test_correct_pos}/{test_total_pos} (Correct/Total)\")\n",
        "print(\"Test Correct Negative:\", f\"{test_correct_neg}/{test_total_neg} (Correct/Total)\")"
      ],
      "metadata": {
        "colab": {
          "base_uri": "https://localhost:8080/"
        },
        "id": "bv8sQR1w165o",
        "outputId": "6d8ff5a3-a7e9-468f-a51e-c6af2d5c0d3f"
      },
      "execution_count": 34,
      "outputs": [
        {
          "output_type": "stream",
          "name": "stdout",
          "text": [
            "Test Loss: 0.2104146295763183\n",
            "Test Accuracy: 99.75%\n",
            "Precision: 1.00\n",
            "Recall: 0.33\n",
            "Test Correct Positive: 1/3 (Correct/Total)\n",
            "Test Correct Negative: 784/784 (Correct/Total)\n"
          ]
        }
      ]
    },
    {
      "cell_type": "markdown",
      "source": [
        "4.3: Discuss the model's performance.\n",
        "\n",
        "\n"
      ],
      "metadata": {
        "id": "iEJDyFKpFScI"
      }
    },
    {
      "cell_type": "markdown",
      "source": [
        "While achieving an impressive accuracy of over 99% on the validation set may initially seem cause for celebration, a deeper analysis of the results reveals a less rosy picture. Despite correctly identifying all negative cases, the model struggled to accurately predict any positive instances, rendering its performance ineffective. This discrepancy highlights a critical issue: the dataset's imbalance, with a dearth of positive samples for the model to learn from. Consequently, relying solely on accuracy as a performance metric proves inadequate in capturing the model's true effectiveness."
      ],
      "metadata": {
        "id": "ubKOoUtHY_jM"
      }
    }
  ]
}